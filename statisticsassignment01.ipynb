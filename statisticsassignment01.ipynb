{
  "nbformat": 4,
  "nbformat_minor": 0,
  "metadata": {
    "colab": {
      "provenance": []
    },
    "kernelspec": {
      "name": "python3",
      "display_name": "Python 3"
    },
    "language_info": {
      "name": "python"
    }
  },
  "cells": [
    {
      "cell_type": "markdown",
      "source": [
        "1. What is the difference between descriptive statistics and inferential\n",
        "statistics? Explain with examples.\n",
        "\n",
        "  ->\n",
        "   ### Descriptive Statistics\n",
        "* Definition: Descriptive statistics summarize and describe the features of\n",
        "a dataset.\n",
        "\n",
        "* Goal: To organize and present data in a meaningful way without making predictions or generalizations.\n",
        "\n",
        "* Methods used:\n",
        "\n",
        "    * Measures of central tendency: mean, median, mode\n",
        "\n",
        "    * Measures of dispersion: range, variance, standard deviation\n",
        "\n",
        "    * Graphical representations: histograms, pie charts, boxplots\n",
        "  ### examples\n",
        "  Suppose you survey 50 students in a class about their exam scores. You calculate:\n",
        "\n",
        "* The average score = 72\n",
        "\n",
        "* The highest score = 95\n",
        "\n",
        "* The standard deviation = 10\n",
        "\n",
        "* A histogram showing the score distribution\n",
        "\n",
        "### Inferential Statistics\n",
        "\n",
        "* Definition: Inferential statistics make predictions, decisions, or generalizations about a population based on a sample of data.\n",
        "\n",
        "* Goal: To draw conclusions about a larger group using probability theory and hypothesis testing.\n",
        "\n",
        "* Methods used:\n",
        "\n",
        "    * Hypothesis testing (t-tests, chi-square tests)\n",
        "\n",
        "    * Confidence intervals\n",
        "\n",
        "    * Regression analysis\n",
        "\n",
        "    * ANOVA\n",
        "\n",
        "### Example:\n",
        "You take a sample of 50 students from a university of 10,000 students. You find their average exam score = 72.\n",
        "\n",
        "* Using inferential statistics, you construct a 95% confidence interval and conclude that the true average score for all 10,000 students is likely between 69 and 75.\n",
        "\n",
        "* Or, you test a hypothesis: \"Do male and female students have different average scores?\n",
        "\n",
        "2. What is sampling in statistics? Explain the differences between random\n",
        "and stratified sampling.\n",
        "\n",
        "  ->\n",
        "###Sampling in Statistics\n",
        "\n",
        "Imagine you want to know the average height of students in a school with 1,000 students. Measuring everyone’s height would take too much time. Instead, you choose a smaller group (sample), say 100 students, measure them, and then use those results to estimate for the whole school (population).\n",
        "\n",
        "That process of choosing some students instead of everyone is called sampling.\n",
        "\n",
        "###Random Sampling\n",
        "\n",
        "Think of putting the names of all 1,000 students in a box and then pulling out 100 names blindly. Every student has the same chance of being chosen. This is random sampling.\n",
        "\n",
        "The problem? By chance, you might end up with more boys than girls, or maybe most students from one class, so some groups might not be well represented.\n",
        "\n",
        "###Stratified Sampling\n",
        "\n",
        "Now imagine you first divide the school into groups — boys and girls. Or maybe into juniors and seniors. These groups are called strata. Then you randomly pick students from each group in proportion to their size in the school.\n",
        "\n",
        "**For example**, if 60% of students are girls and 40% are boys, in your sample of 100, you take 60 girls and 40 boys. This way, your sample represents the population more fairly.\n",
        "\n",
        "3. Define mean, median, and mode. Explain why these measures of central\n",
        "tendency are important.\n",
        "\n",
        "   ->\n",
        "###**Mean**\n",
        "\n",
        "The mean is what we usually call the average.\n",
        "To find it, you add up all the values and then divide by how many values there are.\n",
        "\n",
        "###**Median**\n",
        "\n",
        "The median is the middle value when the data is arranged in order.\n",
        "\n",
        "If there is an odd number of values → the middle one is the median.\n",
        "\n",
        "If there is an even number of values → the median is the average of the two middle numbers.\n",
        "\n",
        "###**Mode**\n",
        "\n",
        "The mode is the value that occurs most often in the dataset.\n",
        "\n",
        "Measures of central tendency — mean, median, and mode — are important because they give us ways to summarize and interpret data in a simple and meaningful way. Here's why each matters:\n",
        "\n",
        "####**Mean (average):**\n",
        "\n",
        " * Adds up all the values and divides by the number of items.\n",
        "\n",
        " * Useful because it uses all data points, giving an overall “balance point.”\n",
        "\n",
        " * Important in comparing groups (e.g., average income, average test score).\n",
        "\n",
        " * But, it can be affected by extreme values (outliers).\n",
        "\n",
        "####**Median (middle value):**\n",
        "\n",
        " * The value that lies in the middle when data is ordered.\n",
        "\n",
        " * Important because it shows the “typical” value without being skewed by outliers.\n",
        "\n",
        "* Often used in reporting salaries, housing prices, or incomes because these are usually skewed.\n",
        "\n",
        "####**Mode (most frequent value):**\n",
        "\n",
        " * Shows the most common observation in the dataset.\n",
        "\n",
        " * Important for categorical data (e.g., most popular color, product, or preference).\n",
        "\n",
        " * Helps identify trends or majority choices.\n",
        "\n",
        "4. Explain skewness and kurtosis. What does a positive skew imply about the\n",
        "data?\n",
        "\n",
        "   -> **Skewness**\n",
        "\n",
        "Measures asymmetry of a distribution.\n",
        "\n",
        "Positive skew (right-skewed): tail on the right, mean > median.\n",
        "\n",
        "Negative skew (left-skewed): tail on the left, mean < median.\n",
        "\n",
        "**Kurtosis**\n",
        "\n",
        "Measures “tailedness” (how heavy or light the tails are).\n",
        "\n",
        "Mesokurtic (≈3): normal distribution.\n",
        "\n",
        "Leptokurtic (>3): heavy tails, sharp peak, more outliers.\n",
        "\n",
        "Platykurtic (<3): light tails, flat peak, fewer outliers.\n",
        "\n",
        "**Positive Skew Implies**\n",
        "\n",
        "Most data are at the lower end.\n",
        "\n",
        "A few large values stretch the tail to the right.\n",
        "\n",
        "Order of averages: Mode < Median < Mean."
      ],
      "metadata": {
        "id": "zVx2HpULA5cl"
      }
    },
    {
      "cell_type": "markdown",
      "source": [
        "5. Implement a Python program to compute the mean, median, and mode of\n",
        "a given list of numbers.\n",
        "\n",
        "numbers = [12, 15, 12, 18, 19, 12, 20, 22, 19, 19, 24, 24, 24, 26, 28]"
      ],
      "metadata": {
        "id": "OU1hFTbgIidF"
      }
    },
    {
      "cell_type": "code",
      "execution_count": 1,
      "metadata": {
        "colab": {
          "base_uri": "https://localhost:8080/"
        },
        "id": "IwOoJi39_rtW",
        "outputId": "4d963a16-a315-41e5-ba9e-49d18f817701"
      },
      "outputs": [
        {
          "output_type": "stream",
          "name": "stdout",
          "text": [
            "Mean: 19.6\n",
            "Median: 19\n",
            "Mode: 12\n"
          ]
        }
      ],
      "source": [
        "import statistics as stats\n",
        "\n",
        "# Given list of numbers\n",
        "numbers = [12, 15, 12, 18, 19, 12, 20, 22, 19, 19, 24, 24, 24, 26, 28]\n",
        "\n",
        "# Calculate mean, median, and mode\n",
        "mean_value = stats.mean(numbers)\n",
        "median_value = stats.median(numbers)\n",
        "mode_value = stats.mode(numbers)\n",
        "\n",
        "# Display results\n",
        "print(\"Mean:\", mean_value)\n",
        "print(\"Median:\", median_value)\n",
        "print(\"Mode:\", mode_value)\n"
      ]
    },
    {
      "cell_type": "markdown",
      "source": [
        "6. Compute the covariance and correlation coefficient between the following\n",
        "two datasets provided as lists in Python:\n",
        "\n",
        "list_x = [10, 20, 30, 40, 50]\n",
        "\n",
        "list_y = [15, 25, 35, 45, 60]"
      ],
      "metadata": {
        "id": "XZJLlid5I14x"
      }
    },
    {
      "cell_type": "code",
      "source": [
        "import numpy as np\n",
        "\n",
        "# Given datasets\n",
        "list_x = [10, 20, 30, 40, 50]\n",
        "list_y = [15, 25, 35, 45, 60]\n",
        "\n",
        "# Convert to numpy arrays\n",
        "x = np.array(list_x)\n",
        "y = np.array(list_y)\n",
        "\n",
        "# Covariance matrix (2x2)\n",
        "cov_matrix = np.cov(x, y, bias=False)  # bias=False gives sample covariance\n",
        "cov_xy = cov_matrix[0, 1]  # covariance between x and y\n",
        "\n",
        "# Correlation coefficient\n",
        "corr_xy = np.corrcoef(x, y)[0, 1]\n",
        "\n",
        "# Display results\n",
        "print(\"Covariance:\", cov_xy)\n",
        "print(\"Correlation Coefficient:\", corr_xy)\n"
      ],
      "metadata": {
        "colab": {
          "base_uri": "https://localhost:8080/"
        },
        "id": "PcOJQDkDI9LO",
        "outputId": "92162c83-f188-4cf4-e47f-5604fdf29a56"
      },
      "execution_count": 2,
      "outputs": [
        {
          "output_type": "stream",
          "name": "stdout",
          "text": [
            "Covariance: 275.0\n",
            "Correlation Coefficient: 0.995893206467704\n"
          ]
        }
      ]
    },
    {
      "cell_type": "markdown",
      "source": [
        "7. Write a Python script to draw a boxplot for the following numeric list and\n",
        "identify its outliers. Explain the result:\n",
        "\n",
        "data = [12, 14, 14, 15, 18, 19, 19, 21, 22, 22, 23, 23, 24, 26, 29, 35]"
      ],
      "metadata": {
        "id": "ZNXV_AraJdTd"
      }
    },
    {
      "cell_type": "code",
      "source": [
        "import matplotlib.pyplot as plt\n",
        "import numpy as np\n",
        "\n",
        "# Given data\n",
        "data = [12, 14, 14, 15, 18, 19, 19, 21, 22, 22, 23, 23, 24, 26, 29, 35]\n",
        "\n",
        "# Create boxplot\n",
        "plt.boxplot(data, vert=False, patch_artist=True)\n",
        "plt.title(\"Boxplot of Given Data\")\n",
        "plt.xlabel(\"Values\")\n",
        "plt.show()\n",
        "\n",
        "# --- Outlier detection using IQR method ---\n",
        "Q1 = np.percentile(data, 25)   # First quartile\n",
        "Q3 = np.percentile(data, 75)   # Third quartile\n",
        "IQR = Q3 - Q1                  # Interquartile Range\n",
        "\n",
        "# Outlier thresholds\n",
        "lower_bound = Q1 - 1.5 * IQR\n",
        "upper_bound = Q3 + 1.5 * IQR\n",
        "\n",
        "# Identify outliers\n",
        "outliers = [x for x in data if x < lower_bound or x > upper_bound]\n",
        "\n",
        "print(\"Q1:\", Q1)\n",
        "print(\"Q3:\", Q3)\n",
        "print(\"IQR:\", IQR)\n",
        "print(\"Lower Bound:\", lower_bound)\n",
        "print(\"Upper Bound:\", upper_bound)\n",
        "print(\"Outliers:\", outliers)"
      ],
      "metadata": {
        "colab": {
          "base_uri": "https://localhost:8080/",
          "height": 576
        },
        "id": "fDvEFZuZJlDh",
        "outputId": "ba9f7732-8f85-4faa-e0fb-c9d47878f4a3"
      },
      "execution_count": 3,
      "outputs": [
        {
          "output_type": "display_data",
          "data": {
            "text/plain": [
              "<Figure size 640x480 with 1 Axes>"
            ],
            "image/png": "[encoded data removed]"
          },
          "metadata": {}
        },
        {
          "output_type": "stream",
          "name": "stdout",
          "text": [
            "Q1: 17.25\n",
            "Q3: 23.25\n",
            "IQR: 6.0\n",
            "Lower Bound: 8.25\n",
            "Upper Bound: 32.25\n",
            "Outliers: [35]\n"
          ]
        }
      ]
    },
    {
      "cell_type": "markdown",
      "source": [
        "8. You are working as a data analyst in an e-commerce company. The\n",
        "marketing team wants to know if there is a relationship between advertising spend and daily sales.\n",
        "\n",
        "● Explain how you would use covariance and correlation to explore this\n",
        "relationship.\n",
        "\n",
        "● Write Python code to compute the correlation between the two lists:\n",
        "advertising_spend = [200, 250, 300, 400, 500]\n",
        "\n",
        "daily_sales = [2200, 2450, 2750, 3200, 4000]\n",
        "\n",
        "   ->\n",
        "* Covariance tells us the direction of the relationship.\n",
        "\n",
        "   * If covariance is positive, then when advertising spend increases, daily sales also tend to increase.\n",
        "\n",
        "   * If it's negative, then higher advertising spend would be linked to lower sales.\n",
        "\n",
        "   * The weakness: covariance does not tell us how strong the relationship is, only the direction.\n",
        "\n",
        "* Correlation improves on this by standardizing covariance.\n",
        "\n",
        "   * It ranges between -1 and +1.\n",
        "\n",
        "   * A value close to +1 means a strong positive relationship (sales rise as spend rises).\n",
        "\n",
        "   * A value close to -1 means a strong negative relationship.\n",
        "\n",
        "   * A value near 0 means little to no linear relationship."
      ],
      "metadata": {
        "id": "v4G0zkLtJq_6"
      }
    },
    {
      "cell_type": "code",
      "source": [
        "import numpy as np\n",
        "\n",
        "# Given data\n",
        "advertising_spend = [200, 250, 300, 400, 500]\n",
        "daily_sales = [2200, 2450, 2750, 3200, 4000]\n",
        "\n",
        "# Convert to numpy arrays\n",
        "x = np.array(advertising_spend)\n",
        "y = np.array(daily_sales)\n",
        "\n",
        "# Compute covariance\n",
        "cov_matrix = np.cov(x, y, bias=False)\n",
        "cov_xy = cov_matrix[0, 1]\n",
        "\n",
        "# Compute correlation coefficient\n",
        "corr_xy = np.corrcoef(x, y)[0, 1]\n",
        "\n",
        "# Display results\n",
        "print(\"Covariance:\", cov_xy)\n",
        "print(\"Correlation Coefficient:\", corr_xy)"
      ],
      "metadata": {
        "colab": {
          "base_uri": "https://localhost:8080/"
        },
        "id": "TP_WcYeYJ0EN",
        "outputId": "27f4b633-2e52-4f83-b0be-233eb2c0b77a"
      },
      "execution_count": 4,
      "outputs": [
        {
          "output_type": "stream",
          "name": "stdout",
          "text": [
            "Covariance: 84875.0\n",
            "Correlation Coefficient: 0.9935824101653329\n"
          ]
        }
      ]
    },
    {
      "cell_type": "markdown",
      "source": [
        "9. Your team has collected customer satisfaction survey data on a scale of\n",
        "1-10 and wants to understand its distribution before launching a new product.\n",
        "\n",
        "● Explain which summary statistics and visualizations (e.g. mean, standard\n",
        "deviation, histogram) you’d use.\n",
        "\n",
        "● Write Python code to create a histogram using Matplotlib for the survey data:\n",
        "\n",
        "survey_scores = [7, 8, 5, 9, 6, 7, 8, 9, 10, 4, 7, 6, 9, 8, 7]\n",
        "\n",
        "  -> To understand the distribution of customer satisfaction scores (on a 1-10 scale), we'd use:\n",
        "\n",
        "* Mean (average): Tells us the central tendency — the overall “typical” satisfaction level.\n",
        "\n",
        "* Median: Helpful in case of skewed scores (e.g., a few very low or very high ratings).\n",
        "\n",
        "* Standard Deviation: Measures how spread out the scores are. A small standard deviation means most customers feel similarly; a large one means opinions vary widely.\n",
        "\n",
        "* Histogram: Visualizes the distribution of scores (e.g., are most customers satisfied around 7-9, or spread across the whole scale?).\n",
        "\n",
        "* Boxplot (optional): Helps detect outliers and shows spread/median clearly."
      ],
      "metadata": {
        "id": "le42faD6LQyg"
      }
    },
    {
      "cell_type": "code",
      "source": [
        "import matplotlib.pyplot as plt\n",
        "\n",
        "# Survey data\n",
        "survey_scores = [7, 8, 5, 9, 6, 7, 8, 9, 10, 4, 7, 6, 9, 8, 7]\n",
        "\n",
        "# Create histogram\n",
        "plt.hist(survey_scores, bins=6, color=\"skyblue\", edgecolor=\"black\")\n",
        "plt.title(\"Distribution of Customer Satisfaction Scores\")\n",
        "plt.xlabel(\"Survey Score (1-10)\")\n",
        "plt.ylabel(\"Frequency\")\n",
        "plt.grid(axis=\"y\", linestyle=\"--\", alpha=0.7)\n",
        "plt.show()\n"
      ],
      "metadata": {
        "id": "ew6NiUHxLOle",
        "outputId": "074eb534-35c3-451c-ebdc-a8f5451d0a3e",
        "colab": {
          "base_uri": "https://localhost:8080/",
          "height": 472
        }
      },
      "execution_count": 5,
      "outputs": [
        {
          "output_type": "display_data",
          "data": {
            "text/plain": [
              "<Figure size 640x480 with 1 Axes>"
            ],
            "image/png": "[encoded data removed]"
          },
          "metadata": {}
        }
      ]
    }
  ]
}